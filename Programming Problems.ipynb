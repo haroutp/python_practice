{
 "cells": [
  {
   "cell_type": "markdown",
   "metadata": {},
   "source": [
    "# Programing Practice\n",
    "\n",
    "This notebook contains 50 programming problems provided by Maithily Erande, a professor at Hult International Business School.\n",
    "\n",
    "The problems are intended to make the user ***think like a programmer*** "
   ]
  },
  {
   "cell_type": "markdown",
   "metadata": {},
   "source": [
    "## Problem 01:\n",
    "Write a Python program to check a triangle is equilateral, isosceles or scalene.\n",
    "\n",
    "**Hint:**\n",
    "1. Think of what inputs will you need from the user\n",
    "2. How will you determine what type the triangle is?"
   ]
  },
  {
   "cell_type": "code",
   "execution_count": 5,
   "metadata": {},
   "outputs": [
    {
     "name": "stdout",
     "output_type": "stream",
     "text": [
      "Angle 01: 60\n",
      "\n",
      "Angle 02: 90\n",
      "\n",
      "Angle 02: 30\n",
      "\n",
      "You have a scalene triangle! That means no angles are equal.\n"
     ]
    }
   ],
   "source": [
    "# Define the types of triangles for yourself and the user\n",
    "str_equilateral_definition = \"all angles are equal.\"\n",
    "str_isosceles_definition = \"two angles are equal.\"\n",
    "str_scalene_definition = \"no angles are equal.\"\n",
    "\n",
    "# Make sure the user can only input integers and not strings\n",
    "try:\n",
    "    int_angle_01 = int(input(\"Angle 01: \"))\n",
    "    print(\"\")\n",
    "    int_angle_02 = int(input(\"Angle 02: \"))\n",
    "    print(\"\")\n",
    "    int_angle_03 = int(input(\"Angle 02: \"))\n",
    "    print(\"\")\n",
    "except ValueError:\n",
    "    print(\"This is not a valid number. It isn't a number at all! This is a string.. Try again!\")\n",
    "\n",
    "# Run an if statement to identify type of triangle based on the 3 angles\n",
    "if int_angle_01 == int_angle_02 == int_angle_03:\n",
    "    print(\"You have an equilateral triangle! That means\", str_equilateral_definition)\n",
    "elif int_angle_01 == int_angle_02 != int_angle_03 or int_angle_03 == int_angle_02 != int_angle_01:\n",
    "    print(\"You have an isosceles triangle! That means\", str_isosceles_definition)\n",
    "else:\n",
    "    print(\"You have a scalene triangle! That means\", str_scalene_definition)"
   ]
  },
  {
   "cell_type": "markdown",
   "metadata": {},
   "source": [
    "## Problem 02:\n",
    "Ask the user for 2 inputs:\n",
    "1. Day (User enters one of the following: Monday, Tuesday, Wednesday, Thursday, Friday, Saturday, Sunday)\n",
    "2. Vacation – User enters one of the following: Yes, No\n",
    "\n",
    "Conditionals:\n",
    "- If the user is on a vacation and it is a weekday, then you should let the user know to “Have a lazy day”\n",
    "- If it is a weekday and the user is not on a vacation, then you should let the user know “Get going my friend”\n",
    "- If the user is not on a vacation, but it is a weekend, then tell the user “Have a lazy day”\n",
    "- If the user is on a vacation and it is a weekend, then tell the user “Have a lazy day”"
   ]
  },
  {
   "cell_type": "code",
   "execution_count": 9,
   "metadata": {},
   "outputs": [
    {
     "name": "stdout",
     "output_type": "stream",
     "text": [
      "Please input a day of the week in the format of 'Monday' for example: Monday\n",
      "\n",
      "Are you on vacation on that day? (Yes or No): Yes\n",
      "\n",
      "Get going my friend\n"
     ]
    }
   ],
   "source": [
    "# Outline the inputs\n",
    "\n",
    "day = input(\"Please input a day of the week in the format of 'Monday' for example: \")\n",
    "print(\"\")\n",
    "vacation = bool(input(\"Are you on vacation on that day? (Yes or No): \"))\n",
    "print(\"\")\n",
    "\n",
    "# Create a variable to use for the conditionals\n",
    "\n",
    "weekend = \"Saturday\" or \"Sunday\"\n",
    "\n",
    "# Create the conditionals\n",
    "\n",
    "if vacation == True and (vacation == False and weekend == True):\n",
    "    print(\"Have a lazy day\")\n",
    "else:\n",
    "    print(\"Get going my friend\")\n",
    "\n",
    "    "
   ]
  },
  {
   "cell_type": "markdown",
   "metadata": {},
   "source": [
    "# Problem 03:\n",
    "\n",
    "Ask the user to input a number. Calculate and print the square root of the number."
   ]
  },
  {
   "cell_type": "code",
   "execution_count": 15,
   "metadata": {},
   "outputs": [
    {
     "name": "stdout",
     "output_type": "stream",
     "text": [
      "Your number: 16\n",
      "The square root of your number:  4\n"
     ]
    }
   ],
   "source": [
    "import math\n",
    "\n",
    "integer = int(input(\"Your number: \"))\n",
    "\n",
    "print(\"The square root of your number: \", math.sqrt(integer))"
   ]
  },
  {
   "cell_type": "code",
   "execution_count": null,
   "metadata": {},
   "outputs": [],
   "source": []
  }
 ],
 "metadata": {
  "kernelspec": {
   "display_name": "Python 3",
   "language": "python",
   "name": "python3"
  },
  "language_info": {
   "codemirror_mode": {
    "name": "ipython",
    "version": 3
   },
   "file_extension": ".py",
   "mimetype": "text/x-python",
   "name": "python",
   "nbconvert_exporter": "python",
   "pygments_lexer": "ipython3",
   "version": "3.7.6"
  }
 },
 "nbformat": 4,
 "nbformat_minor": 4
}
